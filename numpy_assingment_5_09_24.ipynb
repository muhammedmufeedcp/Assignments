{
  "nbformat": 4,
  "nbformat_minor": 0,
  "metadata": {
    "colab": {
      "provenance": []
    },
    "kernelspec": {
      "name": "python3",
      "display_name": "Python 3"
    },
    "language_info": {
      "name": "python"
    }
  },
  "cells": [
    {
      "cell_type": "code",
      "source": [
        "import numpy as np"
      ],
      "metadata": {
        "id": "YyqGdbibvcE0"
      },
      "execution_count": null,
      "outputs": []
    },
    {
      "cell_type": "code",
      "execution_count": null,
      "metadata": {
        "id": "UpwbR0BHTnxe",
        "colab": {
          "base_uri": "https://localhost:8080/"
        },
        "outputId": "d784bd8a-f764-4c71-f4f8-ab31865319f1"
      },
      "outputs": [
        {
          "output_type": "stream",
          "name": "stdout",
          "text": [
            "[[1 2 3]\n",
            " [4 5 6]\n",
            " [7 8 9]]\n",
            "[array([[1, 2, 3]]), array([[4, 5, 6]]), array([[7, 8, 9]])]\n"
          ]
        }
      ],
      "source": [
        "#1\n",
        "a=np.arange(1,10).reshape(3,3)\n",
        "b=np.array_split(a,3)\n",
        "print(a)\n",
        "print(b)"
      ]
    },
    {
      "cell_type": "code",
      "source": [
        "#2\n",
        "a=np.arange(1,9).reshape(2,2,-1)\n",
        "print(a)"
      ],
      "metadata": {
        "colab": {
          "base_uri": "https://localhost:8080/"
        },
        "id": "dCSELpEavfci",
        "outputId": "070f569e-36aa-4285-ffa7-2913ab845de9"
      },
      "execution_count": null,
      "outputs": [
        {
          "output_type": "stream",
          "name": "stdout",
          "text": [
            "[[[1 2]\n",
            "  [3 4]]\n",
            "\n",
            " [[5 6]\n",
            "  [7 8]]]\n"
          ]
        }
      ]
    },
    {
      "cell_type": "code",
      "source": [
        "#3\n",
        "m=np.array([[[1,2,3],[4,5,6],[7,8,9],[0,1,2]]])\n",
        "l=np.array([[[5,6,7],[8,9,4],[8,3,5],[3,6,7]]])\n",
        "n=np.concatenate((m,l),axis=1)\n",
        "o=np.concatenate((m,l),axis=2)\n",
        "print(n)\n",
        "print(o)"
      ],
      "metadata": {
        "colab": {
          "base_uri": "https://localhost:8080/"
        },
        "id": "uRigJHNoxCLr",
        "outputId": "58a70916-695d-4028-e7de-65bc6130f312"
      },
      "execution_count": null,
      "outputs": [
        {
          "output_type": "stream",
          "name": "stdout",
          "text": [
            "[[[1 2 3]\n",
            "  [4 5 6]\n",
            "  [7 8 9]\n",
            "  [0 1 2]\n",
            "  [5 6 7]\n",
            "  [8 9 4]\n",
            "  [8 3 5]\n",
            "  [3 6 7]]]\n",
            "[[[1 2 3 5 6 7]\n",
            "  [4 5 6 8 9 4]\n",
            "  [7 8 9 8 3 5]\n",
            "  [0 1 2 3 6 7]]]\n"
          ]
        }
      ]
    },
    {
      "cell_type": "code",
      "source": [
        "#4\n",
        "a=np.array(['apple','banana','cherry','date','elderberry','fry'])\n",
        "b=np.array(['a','e','i','o','u'])\n",
        "c=[]\n",
        "for i in a:\n",
        "    for j in i:\n",
        "        if j in b:\n",
        "         if i not in c:\n",
        "            c.append(i)\n",
        "print(np.array(c))"
      ],
      "metadata": {
        "colab": {
          "base_uri": "https://localhost:8080/"
        },
        "id": "EeQFWUcUxwWG",
        "outputId": "1001f59b-dad0-42e1-c6e5-17d642e4a767"
      },
      "execution_count": null,
      "outputs": [
        {
          "output_type": "stream",
          "name": "stdout",
          "text": [
            "['apple', 'banana', 'cherry', 'date', 'elderberry']\n"
          ]
        }
      ]
    },
    {
      "cell_type": "code",
      "source": [
        "#5\n",
        "a=np.array([9,10,20,30,40,33,50])\n",
        "b=[True,False,False,True,False,True,False]\n",
        "a[b]"
      ],
      "metadata": {
        "colab": {
          "base_uri": "https://localhost:8080/"
        },
        "id": "nQUijoASyqfx",
        "outputId": "4775bb08-5e36-4cee-eab1-d19953a6b6ed"
      },
      "execution_count": null,
      "outputs": [
        {
          "output_type": "execute_result",
          "data": {
            "text/plain": [
              "array([ 9, 30, 33])"
            ]
          },
          "metadata": {},
          "execution_count": 27
        }
      ]
    },
    {
      "cell_type": "code",
      "source": [
        "#6\n",
        "a=np.array(([1.1,1.2,1.3]),dtype=int)\n",
        "print(a)"
      ],
      "metadata": {
        "colab": {
          "base_uri": "https://localhost:8080/"
        },
        "id": "Qv3mrP8JyqUq",
        "outputId": "9da8f387-434d-4b06-e943-77bfacdff856"
      },
      "execution_count": null,
      "outputs": [
        {
          "output_type": "stream",
          "name": "stdout",
          "text": [
            "[1 1 1]\n"
          ]
        }
      ]
    },
    {
      "cell_type": "code",
      "source": [
        "#7\n",
        "p = np.zeros((5,5),dtype=int)\n",
        "for i in range(5):\n",
        "  p[i,i] = 1\n",
        "print(p)"
      ],
      "metadata": {
        "colab": {
          "base_uri": "https://localhost:8080/"
        },
        "id": "ErUAAikMyKjv",
        "outputId": "ca130221-3b8f-4b4b-ed2f-d3ef3ab1447f"
      },
      "execution_count": null,
      "outputs": [
        {
          "output_type": "stream",
          "name": "stdout",
          "text": [
            "[[1 0 0 0 0]\n",
            " [0 1 0 0 0]\n",
            " [0 0 1 0 0]\n",
            " [0 0 0 1 0]\n",
            " [0 0 0 0 1]]\n"
          ]
        }
      ]
    },
    {
      "cell_type": "code",
      "source": [
        "#8\n",
        "x=np.array([[1,2],[4,6],[8,9],[2,2]])\n",
        "y=np.array([[3,5],[5,7],[9,6],[9,4]])\n",
        "print(x*y)"
      ],
      "metadata": {
        "colab": {
          "base_uri": "https://localhost:8080/"
        },
        "id": "445ApHIfyOXG",
        "outputId": "9dbef7fb-3f7d-4b4b-c578-4e4ad9f40196"
      },
      "execution_count": null,
      "outputs": [
        {
          "output_type": "stream",
          "name": "stdout",
          "text": [
            "[[ 3 10]\n",
            " [20 42]\n",
            " [72 54]\n",
            " [18  8]]\n"
          ]
        }
      ]
    },
    {
      "cell_type": "code",
      "source": [
        "#9\n",
        "a = np.array([[[5, 6, 7, 8], [6, 8, 9, 0]], [[6, 4, 7, 0], [3, 2, 1, 5]]])\n",
        "for i in range(a.shape[0]):\n",
        "  for x in range(a.shape[1]):\n",
        "    for y in range(a.shape[2]):\n",
        "      print(\"Index: \", (i, x, y), \"Value: \", a[i][x][y])"
      ],
      "metadata": {
        "colab": {
          "base_uri": "https://localhost:8080/"
        },
        "id": "EUYA1Tcv3Ma4",
        "outputId": "e39cb182-ff82-4e25-b6ff-704fa4e36f3c"
      },
      "execution_count": null,
      "outputs": [
        {
          "output_type": "stream",
          "name": "stdout",
          "text": [
            "Index:  (0, 0, 0) Value:  5\n",
            "Index:  (0, 0, 1) Value:  6\n",
            "Index:  (0, 0, 2) Value:  7\n",
            "Index:  (0, 0, 3) Value:  8\n",
            "Index:  (0, 1, 0) Value:  6\n",
            "Index:  (0, 1, 1) Value:  8\n",
            "Index:  (0, 1, 2) Value:  9\n",
            "Index:  (0, 1, 3) Value:  0\n",
            "Index:  (1, 0, 0) Value:  6\n",
            "Index:  (1, 0, 1) Value:  4\n",
            "Index:  (1, 0, 2) Value:  7\n",
            "Index:  (1, 0, 3) Value:  0\n",
            "Index:  (1, 1, 0) Value:  3\n",
            "Index:  (1, 1, 1) Value:  2\n",
            "Index:  (1, 1, 2) Value:  1\n",
            "Index:  (1, 1, 3) Value:  5\n"
          ]
        }
      ]
    },
    {
      "cell_type": "code",
      "source": [
        "#10\n",
        "x=np.arange(26)\n",
        "x[x%5==0]='5'\n",
        "x[x%3==0]='3'\n",
        "print(x)"
      ],
      "metadata": {
        "colab": {
          "base_uri": "https://localhost:8080/"
        },
        "id": "EQLjOqhJ3Mw-",
        "outputId": "e56c4d93-2c53-427a-ff2e-fa5ae7178dd2"
      },
      "execution_count": null,
      "outputs": [
        {
          "output_type": "stream",
          "name": "stdout",
          "text": [
            "[ 5  1  2  3  4  5  3  7  8  3  5 11  3 13 14  5 16 17  3 19  5  3 22 23\n",
            "  3  5]\n"
          ]
        }
      ]
    },
    {
      "cell_type": "code",
      "source": [
        "#11\n",
        "x=np.array([[5,6,2,7,8,9],[1,7,8,10,11,8]])\n",
        "y=np.sort(x)\n",
        "print(np.searchsorted(x[0],8,side=\"right\"))\n",
        "print(np.searchsorted(x[1],8,side=\"right\"))"
      ],
      "metadata": {
        "colab": {
          "base_uri": "https://localhost:8080/"
        },
        "id": "sFtrflT33NBn",
        "outputId": "c88e1049-2e1d-4d58-f7dc-1c6e33414a55"
      },
      "execution_count": null,
      "outputs": [
        {
          "output_type": "stream",
          "name": "stdout",
          "text": [
            "5\n",
            "3\n"
          ]
        }
      ]
    }
  ]
}